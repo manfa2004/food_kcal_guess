{
 "cells": [
  {
   "cell_type": "code",
   "execution_count": 7,
   "metadata": {},
   "outputs": [],
   "source": [
    "from glob import glob\n",
    "from PIL import Image"
   ]
  },
  {
   "cell_type": "code",
   "execution_count": 8,
   "metadata": {},
   "outputs": [],
   "source": [
    "image_datas = glob('./japanese_foods/*/*.jpg')"
   ]
  },
  {
   "cell_type": "code",
   "execution_count": 9,
   "metadata": {},
   "outputs": [],
   "source": [
    "for imagename in image_datas:\n",
    "    image = Image.open(imagename)\n",
    "    lr_image = image.transpose(Image.FLIP_LEFT_RIGHT)       #좌우반전\n",
    "    lr_imagename = imagename.replace(\".jpg\", \"\") + \" \" + \".jpg\"\n",
    "    ud_image = image.transpose(Image.FLIP_TOP_BOTTOM)       #상하반전\n",
    "    ud_imagename = imagename.replace(\".jpg\", \"\") + \"  \" + \".jpg\"\n",
    "\n",
    "    lr_image.save(lr_imagename)\n",
    "    ud_image.save(ud_imagename)"
   ]
  }
 ],
 "metadata": {
  "kernelspec": {
   "display_name": "foodkcal",
   "language": "python",
   "name": "python3"
  },
  "language_info": {
   "codemirror_mode": {
    "name": "ipython",
    "version": 3
   },
   "file_extension": ".py",
   "mimetype": "text/x-python",
   "name": "python",
   "nbconvert_exporter": "python",
   "pygments_lexer": "ipython3",
   "version": "3.7.16"
  },
  "orig_nbformat": 4
 },
 "nbformat": 4,
 "nbformat_minor": 2
}
